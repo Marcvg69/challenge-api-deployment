{
 "cells": [
  {
   "cell_type": "code",
   "execution_count": 1,
   "id": "bffc6c9f",
   "metadata": {},
   "outputs": [
    {
     "name": "stdout",
     "output_type": "stream",
     "text": [
      "['bedroomcount', 'habitablesurface', 'haslift', 'hasgarden', 'hasswimmingpool', 'hasterrace', 'buildingcondition_encoded', 'region_Brussels', 'region_Flanders', 'region_Wallonia', 'type_encoded', 'latitude', 'longitude']\n"
     ]
    }
   ],
   "source": [
    "from joblib import load\n",
    "\n",
    "model = load(\"model/ego_catboost.joblib\")\n",
    "\n",
    "# Get the feature names\n",
    "print(model.feature_names_)"
   ]
  }
 ],
 "metadata": {
  "kernelspec": {
   "display_name": "cad",
   "language": "python",
   "name": "python3"
  },
  "language_info": {
   "codemirror_mode": {
    "name": "ipython",
    "version": 3
   },
   "file_extension": ".py",
   "mimetype": "text/x-python",
   "name": "python",
   "nbconvert_exporter": "python",
   "pygments_lexer": "ipython3",
   "version": "3.12.7"
  }
 },
 "nbformat": 4,
 "nbformat_minor": 5
}
