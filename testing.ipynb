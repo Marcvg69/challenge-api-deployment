{
 "cells": [
  {
   "cell_type": "code",
   "execution_count": 3,
   "id": "bffc6c9f",
   "metadata": {},
   "outputs": [
    {
     "name": "stdout",
     "output_type": "stream",
     "text": [
      "Collecting catboost\n",
      "  Using cached catboost-1.2.8-cp311-cp311-macosx_11_0_universal2.whl.metadata (1.4 kB)\n",
      "Collecting graphviz (from catboost)\n",
      "  Using cached graphviz-0.21-py3-none-any.whl.metadata (12 kB)\n",
      "Requirement already satisfied: matplotlib in /Users/Marc/Documents/GitHub/immo-eliza-lions/.venv/lib/python3.11/site-packages (from catboost) (3.10.3)\n",
      "Requirement already satisfied: numpy<3.0,>=1.16.0 in /Users/Marc/Documents/GitHub/immo-eliza-lions/.venv/lib/python3.11/site-packages (from catboost) (2.3.0)\n",
      "Requirement already satisfied: pandas>=0.24 in /Users/Marc/Documents/GitHub/immo-eliza-lions/.venv/lib/python3.11/site-packages (from catboost) (2.3.0)\n",
      "Requirement already satisfied: scipy in /Users/Marc/Documents/GitHub/immo-eliza-lions/.venv/lib/python3.11/site-packages (from catboost) (1.16.0)\n",
      "Collecting plotly (from catboost)\n",
      "  Using cached plotly-6.2.0-py3-none-any.whl.metadata (8.5 kB)\n",
      "Requirement already satisfied: six in /Users/Marc/Documents/GitHub/immo-eliza-lions/.venv/lib/python3.11/site-packages (from catboost) (1.17.0)\n",
      "Requirement already satisfied: python-dateutil>=2.8.2 in /Users/Marc/Documents/GitHub/immo-eliza-lions/.venv/lib/python3.11/site-packages (from pandas>=0.24->catboost) (2.9.0.post0)\n",
      "Requirement already satisfied: pytz>=2020.1 in /Users/Marc/Documents/GitHub/immo-eliza-lions/.venv/lib/python3.11/site-packages (from pandas>=0.24->catboost) (2025.2)\n",
      "Requirement already satisfied: tzdata>=2022.7 in /Users/Marc/Documents/GitHub/immo-eliza-lions/.venv/lib/python3.11/site-packages (from pandas>=0.24->catboost) (2025.2)\n",
      "Requirement already satisfied: contourpy>=1.0.1 in /Users/Marc/Documents/GitHub/immo-eliza-lions/.venv/lib/python3.11/site-packages (from matplotlib->catboost) (1.3.2)\n",
      "Requirement already satisfied: cycler>=0.10 in /Users/Marc/Documents/GitHub/immo-eliza-lions/.venv/lib/python3.11/site-packages (from matplotlib->catboost) (0.12.1)\n",
      "Requirement already satisfied: fonttools>=4.22.0 in /Users/Marc/Documents/GitHub/immo-eliza-lions/.venv/lib/python3.11/site-packages (from matplotlib->catboost) (4.58.4)\n",
      "Requirement already satisfied: kiwisolver>=1.3.1 in /Users/Marc/Documents/GitHub/immo-eliza-lions/.venv/lib/python3.11/site-packages (from matplotlib->catboost) (1.4.8)\n",
      "Requirement already satisfied: packaging>=20.0 in /Users/Marc/Documents/GitHub/immo-eliza-lions/.venv/lib/python3.11/site-packages (from matplotlib->catboost) (25.0)\n",
      "Requirement already satisfied: pillow>=8 in /Users/Marc/Documents/GitHub/immo-eliza-lions/.venv/lib/python3.11/site-packages (from matplotlib->catboost) (11.2.1)\n",
      "Requirement already satisfied: pyparsing>=2.3.1 in /Users/Marc/Documents/GitHub/immo-eliza-lions/.venv/lib/python3.11/site-packages (from matplotlib->catboost) (3.2.3)\n",
      "Collecting narwhals>=1.15.1 (from plotly->catboost)\n",
      "  Downloading narwhals-1.46.0-py3-none-any.whl.metadata (11 kB)\n",
      "Using cached catboost-1.2.8-cp311-cp311-macosx_11_0_universal2.whl (27.8 MB)\n",
      "Using cached graphviz-0.21-py3-none-any.whl (47 kB)\n",
      "Using cached plotly-6.2.0-py3-none-any.whl (9.6 MB)\n",
      "Downloading narwhals-1.46.0-py3-none-any.whl (373 kB)\n",
      "Installing collected packages: narwhals, graphviz, plotly, catboost\n",
      "\u001b[2K   \u001b[90m━━━━━━━━━━━━━━━━━━━━━━━━━━━━━━━━━━━━━━━━\u001b[0m \u001b[32m4/4\u001b[0m [catboost]3/4\u001b[0m [catboost]\n",
      "\u001b[1A\u001b[2KSuccessfully installed catboost-1.2.8 graphviz-0.21 narwhals-1.46.0 plotly-6.2.0\n",
      "['bedroomcount', 'habitablesurface', 'haslift', 'hasgarden', 'hasswimmingpool', 'hasterrace', 'buildingcondition_encoded', 'region_Brussels', 'region_Flanders', 'region_Wallonia', 'type_encoded', 'latitude', 'longitude']\n"
     ]
    }
   ],
   "source": [
    "!pip install catboost\n",
    "\n",
    "from joblib import load\n",
    "\n",
    "model = load(\"model/ego_catboost.joblib\")\n",
    "\n",
    "# Get the feature names\n",
    "print(model.feature_names_)"
   ]
  }
 ],
 "metadata": {
  "kernelspec": {
   "display_name": "Python (myenv)",
   "language": "python",
   "name": ".venv"
  },
  "language_info": {
   "codemirror_mode": {
    "name": "ipython",
    "version": 3
   },
   "file_extension": ".py",
   "mimetype": "text/x-python",
   "name": "python",
   "nbconvert_exporter": "python",
   "pygments_lexer": "ipython3",
   "version": "3.11.13"
  }
 },
 "nbformat": 4,
 "nbformat_minor": 5
}
